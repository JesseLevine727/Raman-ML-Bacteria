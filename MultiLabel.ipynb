{
 "cells": [
  {
   "cell_type": "code",
   "execution_count": 138,
   "metadata": {},
   "outputs": [],
   "source": [
    "import pandas as pd\n",
    "import numpy as np\n",
    "from sklearn.ensemble import RandomForestClassifier\n",
    "from sklearn.multioutput import MultiOutputClassifier\n",
    "from sklearn.metrics import recall_score\n",
    "from sklearn.metrics import accuracy_score, f1_score, classification_report"
   ]
  },
  {
   "cell_type": "code",
   "execution_count": 139,
   "metadata": {},
   "outputs": [],
   "source": [
    "trainingData = pd.read_csv('Combined_Intensities_Multilabel.csv')\n",
    "\n",
    "spectra = trainingData.iloc[:, :-2]\n",
    "labels = trainingData.iloc[:, -2:]"
   ]
  },
  {
   "cell_type": "code",
   "execution_count": 140,
   "metadata": {},
   "outputs": [
    {
     "data": {
      "text/html": [
       "<style>#sk-container-id-11 {color: black;}#sk-container-id-11 pre{padding: 0;}#sk-container-id-11 div.sk-toggleable {background-color: white;}#sk-container-id-11 label.sk-toggleable__label {cursor: pointer;display: block;width: 100%;margin-bottom: 0;padding: 0.3em;box-sizing: border-box;text-align: center;}#sk-container-id-11 label.sk-toggleable__label-arrow:before {content: \"▸\";float: left;margin-right: 0.25em;color: #696969;}#sk-container-id-11 label.sk-toggleable__label-arrow:hover:before {color: black;}#sk-container-id-11 div.sk-estimator:hover label.sk-toggleable__label-arrow:before {color: black;}#sk-container-id-11 div.sk-toggleable__content {max-height: 0;max-width: 0;overflow: hidden;text-align: left;background-color: #f0f8ff;}#sk-container-id-11 div.sk-toggleable__content pre {margin: 0.2em;color: black;border-radius: 0.25em;background-color: #f0f8ff;}#sk-container-id-11 input.sk-toggleable__control:checked~div.sk-toggleable__content {max-height: 200px;max-width: 100%;overflow: auto;}#sk-container-id-11 input.sk-toggleable__control:checked~label.sk-toggleable__label-arrow:before {content: \"▾\";}#sk-container-id-11 div.sk-estimator input.sk-toggleable__control:checked~label.sk-toggleable__label {background-color: #d4ebff;}#sk-container-id-11 div.sk-label input.sk-toggleable__control:checked~label.sk-toggleable__label {background-color: #d4ebff;}#sk-container-id-11 input.sk-hidden--visually {border: 0;clip: rect(1px 1px 1px 1px);clip: rect(1px, 1px, 1px, 1px);height: 1px;margin: -1px;overflow: hidden;padding: 0;position: absolute;width: 1px;}#sk-container-id-11 div.sk-estimator {font-family: monospace;background-color: #f0f8ff;border: 1px dotted black;border-radius: 0.25em;box-sizing: border-box;margin-bottom: 0.5em;}#sk-container-id-11 div.sk-estimator:hover {background-color: #d4ebff;}#sk-container-id-11 div.sk-parallel-item::after {content: \"\";width: 100%;border-bottom: 1px solid gray;flex-grow: 1;}#sk-container-id-11 div.sk-label:hover label.sk-toggleable__label {background-color: #d4ebff;}#sk-container-id-11 div.sk-serial::before {content: \"\";position: absolute;border-left: 1px solid gray;box-sizing: border-box;top: 0;bottom: 0;left: 50%;z-index: 0;}#sk-container-id-11 div.sk-serial {display: flex;flex-direction: column;align-items: center;background-color: white;padding-right: 0.2em;padding-left: 0.2em;position: relative;}#sk-container-id-11 div.sk-item {position: relative;z-index: 1;}#sk-container-id-11 div.sk-parallel {display: flex;align-items: stretch;justify-content: center;background-color: white;position: relative;}#sk-container-id-11 div.sk-item::before, #sk-container-id-11 div.sk-parallel-item::before {content: \"\";position: absolute;border-left: 1px solid gray;box-sizing: border-box;top: 0;bottom: 0;left: 50%;z-index: -1;}#sk-container-id-11 div.sk-parallel-item {display: flex;flex-direction: column;z-index: 1;position: relative;background-color: white;}#sk-container-id-11 div.sk-parallel-item:first-child::after {align-self: flex-end;width: 50%;}#sk-container-id-11 div.sk-parallel-item:last-child::after {align-self: flex-start;width: 50%;}#sk-container-id-11 div.sk-parallel-item:only-child::after {width: 0;}#sk-container-id-11 div.sk-dashed-wrapped {border: 1px dashed gray;margin: 0 0.4em 0.5em 0.4em;box-sizing: border-box;padding-bottom: 0.4em;background-color: white;}#sk-container-id-11 div.sk-label label {font-family: monospace;font-weight: bold;display: inline-block;line-height: 1.2em;}#sk-container-id-11 div.sk-label-container {text-align: center;}#sk-container-id-11 div.sk-container {/* jupyter's `normalize.less` sets `[hidden] { display: none; }` but bootstrap.min.css set `[hidden] { display: none !important; }` so we also need the `!important` here to be able to override the default hidden behavior on the sphinx rendered scikit-learn.org. See: https://github.com/scikit-learn/scikit-learn/issues/21755 */display: inline-block !important;position: relative;}#sk-container-id-11 div.sk-text-repr-fallback {display: none;}</style><div id=\"sk-container-id-11\" class=\"sk-top-container\"><div class=\"sk-text-repr-fallback\"><pre>MultiOutputClassifier(estimator=RandomForestClassifier(random_state=1))</pre><b>In a Jupyter environment, please rerun this cell to show the HTML representation or trust the notebook. <br />On GitHub, the HTML representation is unable to render, please try loading this page with nbviewer.org.</b></div><div class=\"sk-container\" hidden><div class=\"sk-item sk-dashed-wrapped\"><div class=\"sk-label-container\"><div class=\"sk-label sk-toggleable\"><input class=\"sk-toggleable__control sk-hidden--visually\" id=\"sk-estimator-id-31\" type=\"checkbox\" ><label for=\"sk-estimator-id-31\" class=\"sk-toggleable__label sk-toggleable__label-arrow\">MultiOutputClassifier</label><div class=\"sk-toggleable__content\"><pre>MultiOutputClassifier(estimator=RandomForestClassifier(random_state=1))</pre></div></div></div><div class=\"sk-parallel\"><div class=\"sk-parallel-item\"><div class=\"sk-item\"><div class=\"sk-label-container\"><div class=\"sk-label sk-toggleable\"><input class=\"sk-toggleable__control sk-hidden--visually\" id=\"sk-estimator-id-32\" type=\"checkbox\" ><label for=\"sk-estimator-id-32\" class=\"sk-toggleable__label sk-toggleable__label-arrow\">estimator: RandomForestClassifier</label><div class=\"sk-toggleable__content\"><pre>RandomForestClassifier(random_state=1)</pre></div></div></div><div class=\"sk-serial\"><div class=\"sk-item\"><div class=\"sk-estimator sk-toggleable\"><input class=\"sk-toggleable__control sk-hidden--visually\" id=\"sk-estimator-id-33\" type=\"checkbox\" ><label for=\"sk-estimator-id-33\" class=\"sk-toggleable__label sk-toggleable__label-arrow\">RandomForestClassifier</label><div class=\"sk-toggleable__content\"><pre>RandomForestClassifier(random_state=1)</pre></div></div></div></div></div></div></div></div></div></div>"
      ],
      "text/plain": [
       "MultiOutputClassifier(estimator=RandomForestClassifier(random_state=1))"
      ]
     },
     "execution_count": 140,
     "metadata": {},
     "output_type": "execute_result"
    }
   ],
   "source": [
    "rf = RandomForestClassifier(n_estimators= 100, random_state=1)\n",
    "model = MultiOutputClassifier(rf)\n",
    "model.fit(spectra,labels)\n"
   ]
  },
  {
   "cell_type": "code",
   "execution_count": 141,
   "metadata": {},
   "outputs": [
    {
     "data": {
      "text/plain": [
       "[array([[0.09, 0.91],\n",
       "        [0.09, 0.91],\n",
       "        [0.38, 0.62],\n",
       "        [0.45, 0.55],\n",
       "        [0.3 , 0.7 ],\n",
       "        [0.67, 0.33],\n",
       "        [0.3 , 0.7 ],\n",
       "        [0.52, 0.48],\n",
       "        [0.75, 0.25],\n",
       "        [0.02, 0.98],\n",
       "        [0.  , 1.  ],\n",
       "        [0.02, 0.98],\n",
       "        [0.22, 0.78],\n",
       "        [0.37, 0.63],\n",
       "        [0.3 , 0.7 ],\n",
       "        [0.13, 0.87],\n",
       "        [0.03, 0.97],\n",
       "        [0.33, 0.67],\n",
       "        [0.64, 0.36],\n",
       "        [0.64, 0.36],\n",
       "        [0.73, 0.27],\n",
       "        [0.72, 0.28],\n",
       "        [0.83, 0.17],\n",
       "        [0.82, 0.18],\n",
       "        [0.47, 0.53],\n",
       "        [0.42, 0.58],\n",
       "        [0.74, 0.26],\n",
       "        [0.03, 0.97],\n",
       "        [0.03, 0.97],\n",
       "        [0.03, 0.97],\n",
       "        [0.37, 0.63],\n",
       "        [0.29, 0.71],\n",
       "        [0.25, 0.75],\n",
       "        [0.18, 0.82],\n",
       "        [0.01, 0.99],\n",
       "        [0.67, 0.33]]),\n",
       " array([[0.91, 0.09],\n",
       "        [0.91, 0.09],\n",
       "        [0.62, 0.38],\n",
       "        [0.55, 0.45],\n",
       "        [0.7 , 0.3 ],\n",
       "        [0.33, 0.67],\n",
       "        [0.7 , 0.3 ],\n",
       "        [0.48, 0.52],\n",
       "        [0.25, 0.75],\n",
       "        [0.98, 0.02],\n",
       "        [1.  , 0.  ],\n",
       "        [0.98, 0.02],\n",
       "        [0.78, 0.22],\n",
       "        [0.63, 0.37],\n",
       "        [0.7 , 0.3 ],\n",
       "        [0.87, 0.13],\n",
       "        [0.97, 0.03],\n",
       "        [0.67, 0.33],\n",
       "        [0.36, 0.64],\n",
       "        [0.36, 0.64],\n",
       "        [0.27, 0.73],\n",
       "        [0.28, 0.72],\n",
       "        [0.17, 0.83],\n",
       "        [0.18, 0.82],\n",
       "        [0.53, 0.47],\n",
       "        [0.58, 0.42],\n",
       "        [0.26, 0.74],\n",
       "        [0.97, 0.03],\n",
       "        [0.97, 0.03],\n",
       "        [0.97, 0.03],\n",
       "        [0.63, 0.37],\n",
       "        [0.71, 0.29],\n",
       "        [0.75, 0.25],\n",
       "        [0.82, 0.18],\n",
       "        [0.99, 0.01],\n",
       "        [0.33, 0.67]])]"
      ]
     },
     "execution_count": 141,
     "metadata": {},
     "output_type": "execute_result"
    }
   ],
   "source": [
    "Fifty_Fifty_Data =pd.read_csv('50_Staph_50_PAO_Intensities.csv') #This sample contained a 1:1 ratio of S.aureus and P. aeruginosa\n",
    "\n",
    "spectra_50_50 = Fifty_Fifty_Data.iloc[:, :-2]\n",
    "labels_50_50 = Fifty_Fifty_Data.iloc[:, -2:]\n",
    "\n",
    "predicted_probabilities_50_50 = model.predict_proba(spectra_50_50)\n",
    "predicted_probabilities_50_50"
   ]
  },
  {
   "cell_type": "code",
   "execution_count": 142,
   "metadata": {},
   "outputs": [
    {
     "name": "stdout",
     "output_type": "stream",
     "text": [
      "[0.69444444 0.30555556]\n",
      "0.0\n"
     ]
    }
   ],
   "source": [
    "prediction = model.predict(spectra_50_50) #With default threshold value = 0.5\n",
    "print(recall_score(labels_50_50, prediction, average= None))\n",
    "print(accuracy_score(labels_50_50, prediction))\n",
    "#Notice with default threshold value, it never predicts a 50/50 probability therefore model never predicts \"precense\" of both bacteria "
   ]
  },
  {
   "cell_type": "code",
   "execution_count": 143,
   "metadata": {},
   "outputs": [
    {
     "data": {
      "text/plain": [
       "array([[1, 0],\n",
       "       [1, 0],\n",
       "       [1, 1],\n",
       "       [1, 1],\n",
       "       [1, 1],\n",
       "       [1, 1],\n",
       "       [1, 1],\n",
       "       [1, 1],\n",
       "       [0, 1],\n",
       "       [1, 0],\n",
       "       [1, 0],\n",
       "       [1, 0],\n",
       "       [1, 0],\n",
       "       [1, 1],\n",
       "       [1, 1],\n",
       "       [1, 0],\n",
       "       [1, 0],\n",
       "       [1, 1],\n",
       "       [1, 1],\n",
       "       [1, 1],\n",
       "       [0, 1],\n",
       "       [0, 1],\n",
       "       [0, 1],\n",
       "       [0, 1],\n",
       "       [1, 1],\n",
       "       [1, 1],\n",
       "       [0, 1],\n",
       "       [1, 0],\n",
       "       [1, 0],\n",
       "       [1, 0],\n",
       "       [1, 1],\n",
       "       [1, 0],\n",
       "       [1, 0],\n",
       "       [1, 0],\n",
       "       [1, 0],\n",
       "       [1, 1]])"
      ]
     },
     "execution_count": 143,
     "metadata": {},
     "output_type": "execute_result"
    }
   ],
   "source": [
    "threshold = 0.30 #Custom threhsold --> if probability >=0.3 then we assume presence of bacteria\n",
    "\n",
    "predicted_labels_custom = (predicted_probabilities_50_50[0][:, 1] >= threshold).astype(int), (predicted_probabilities_50_50[1][:, 1] >= threshold).astype(int)\n",
    "\n",
    "predicted_labels_custom = np.column_stack(predicted_labels_custom)\n",
    "\n",
    "predicted_labels_custom"
   ]
  },
  {
   "cell_type": "code",
   "execution_count": 144,
   "metadata": {},
   "outputs": [
    {
     "data": {
      "text/plain": [
       "0.4166666666666667"
      ]
     },
     "execution_count": 144,
     "metadata": {},
     "output_type": "execute_result"
    }
   ],
   "source": [
    "accuracy_custom = accuracy_score(labels_50_50, predicted_labels_custom)\n",
    "accuracy_custom"
   ]
  },
  {
   "cell_type": "code",
   "execution_count": 145,
   "metadata": {},
   "outputs": [
    {
     "name": "stdout",
     "output_type": "stream",
     "text": [
      "[0.83333333 0.58333333]\n"
     ]
    }
   ],
   "source": [
    "print(recall_score(labels_50_50, predicted_labels_custom, average= None)) "
   ]
  },
  {
   "cell_type": "code",
   "execution_count": 151,
   "metadata": {},
   "outputs": [
    {
     "name": "stdout",
     "output_type": "stream",
     "text": [
      "0.027777777777777776\n",
      "[1.         0.02777778]\n"
     ]
    },
    {
     "data": {
      "text/plain": [
       "array([[1, 0],\n",
       "       [1, 0],\n",
       "       [1, 0],\n",
       "       [1, 0],\n",
       "       [1, 0],\n",
       "       [1, 0],\n",
       "       [1, 0],\n",
       "       [1, 0],\n",
       "       [1, 0],\n",
       "       [1, 0],\n",
       "       [1, 0],\n",
       "       [1, 0],\n",
       "       [1, 0],\n",
       "       [1, 0],\n",
       "       [1, 0],\n",
       "       [1, 0],\n",
       "       [1, 0],\n",
       "       [1, 1],\n",
       "       [1, 0],\n",
       "       [1, 0],\n",
       "       [1, 0],\n",
       "       [1, 0],\n",
       "       [1, 0],\n",
       "       [1, 0],\n",
       "       [1, 0],\n",
       "       [1, 0],\n",
       "       [1, 0],\n",
       "       [1, 0],\n",
       "       [1, 0],\n",
       "       [1, 0],\n",
       "       [1, 0],\n",
       "       [1, 0],\n",
       "       [1, 0],\n",
       "       [1, 0],\n",
       "       [1, 0],\n",
       "       [1, 0]])"
      ]
     },
     "execution_count": 151,
     "metadata": {},
     "output_type": "execute_result"
    }
   ],
   "source": [
    "ten_ninety_Data =pd.read_csv('10_Staph_90_PAO_Intensities.csv') #This sample contained a 10% to 90%  ratio of S.aureus and P. aeruginosa\n",
    "\n",
    "spectra_10_90 = ten_ninety_Data.iloc[:, :-2]\n",
    "labels_10_90 = ten_ninety_Data.iloc[:, -2:]\n",
    "\n",
    "predicted_probabilities_10_90 = model.predict_proba(spectra_10_90)\n",
    "\n",
    "threshold = 0.30 #Custom threhsold --> if probability >=0.3 then we assume presence of bacteria\n",
    "\n",
    "predicted_labels_custom = (predicted_probabilities_10_90[0][:, 1] >= threshold).astype(int), (predicted_probabilities_10_90[1][:, 1] >= threshold).astype(int)\n",
    "\n",
    "predicted_labels_custom = np.column_stack(predicted_labels_custom)\n",
    "\n",
    "print(accuracy_score(labels_10_90,predicted_labels_custom))\n",
    "print(recall_score(labels_10_90,predicted_labels_custom, average = None))\n",
    "\n",
    "predicted_labels_custom"
   ]
  },
  {
   "cell_type": "code",
   "execution_count": 154,
   "metadata": {},
   "outputs": [
    {
     "name": "stdout",
     "output_type": "stream",
     "text": [
      "0.08333333333333333\n",
      "[1.         0.08333333]\n"
     ]
    },
    {
     "data": {
      "text/plain": [
       "array([[1, 0],\n",
       "       [1, 0],\n",
       "       [1, 0],\n",
       "       [1, 0],\n",
       "       [1, 0],\n",
       "       [1, 0],\n",
       "       [1, 0],\n",
       "       [1, 0],\n",
       "       [1, 0],\n",
       "       [1, 0],\n",
       "       [1, 0],\n",
       "       [1, 0],\n",
       "       [1, 0],\n",
       "       [1, 0],\n",
       "       [1, 0],\n",
       "       [1, 0],\n",
       "       [1, 0],\n",
       "       [1, 1],\n",
       "       [1, 0],\n",
       "       [1, 0],\n",
       "       [1, 0],\n",
       "       [1, 1],\n",
       "       [1, 0],\n",
       "       [1, 0],\n",
       "       [1, 0],\n",
       "       [1, 0],\n",
       "       [1, 0],\n",
       "       [1, 0],\n",
       "       [1, 0],\n",
       "       [1, 0],\n",
       "       [1, 0],\n",
       "       [1, 0],\n",
       "       [1, 0],\n",
       "       [1, 0],\n",
       "       [1, 0],\n",
       "       [1, 1]])"
      ]
     },
     "execution_count": 154,
     "metadata": {},
     "output_type": "execute_result"
    }
   ],
   "source": [
    "thirty_seventy_Data =pd.read_csv('30_Staph_70_PAO_Intensities.csv') #This sample contained a 30% to 70%  ratio of S.aureus and P. aeruginosa\n",
    "\n",
    "spectra_30_70 = thirty_seventy_Data.iloc[:, :-2]\n",
    "labels_30_70 = thirty_seventy_Data.iloc[:, -2:]\n",
    "\n",
    "predicted_probabilities_30_70 = model.predict_proba(spectra_30_70)\n",
    "\n",
    "threshold = 0.30 #Custom threhsold --> if probability >=0.3 then we assume presence of bacteria\n",
    "\n",
    "predicted_labels_custom = (predicted_probabilities_30_70[0][:, 1] >= threshold).astype(int), (predicted_probabilities_30_70[1][:, 1] >= threshold).astype(int)\n",
    "\n",
    "predicted_labels_custom = np.column_stack(predicted_labels_custom)\n",
    "\n",
    "print(accuracy_score(labels_30_70,predicted_labels_custom))\n",
    "print(recall_score(labels_30_70,predicted_labels_custom, average = None))\n",
    "\n",
    "predicted_labels_custom"
   ]
  },
  {
   "cell_type": "code",
   "execution_count": 155,
   "metadata": {},
   "outputs": [
    {
     "name": "stdout",
     "output_type": "stream",
     "text": [
      "0.3333333333333333\n",
      "[0.77777778 0.55555556]\n"
     ]
    },
    {
     "data": {
      "text/plain": [
       "array([[1, 1],\n",
       "       [1, 1],\n",
       "       [1, 1],\n",
       "       [1, 1],\n",
       "       [0, 1],\n",
       "       [0, 1],\n",
       "       [1, 1],\n",
       "       [0, 1],\n",
       "       [0, 1],\n",
       "       [1, 0],\n",
       "       [1, 0],\n",
       "       [1, 0],\n",
       "       [1, 1],\n",
       "       [1, 1],\n",
       "       [1, 0],\n",
       "       [1, 1],\n",
       "       [1, 1],\n",
       "       [0, 1],\n",
       "       [1, 0],\n",
       "       [1, 0],\n",
       "       [0, 1],\n",
       "       [1, 1],\n",
       "       [1, 1],\n",
       "       [0, 1],\n",
       "       [1, 0],\n",
       "       [1, 0],\n",
       "       [0, 1],\n",
       "       [1, 0],\n",
       "       [1, 0],\n",
       "       [1, 0],\n",
       "       [1, 0],\n",
       "       [1, 0],\n",
       "       [1, 0],\n",
       "       [1, 0],\n",
       "       [1, 0],\n",
       "       [1, 1]])"
      ]
     },
     "execution_count": 155,
     "metadata": {},
     "output_type": "execute_result"
    }
   ],
   "source": [
    "seventy_thirty_Data =pd.read_csv('70_Staph_30_PAO_Intensities.csv') #This sample contained a 70% to 30%  ratio of S.aureus and P. aeruginosa\n",
    "\n",
    "spectra_70_30 = seventy_thirty_Data.iloc[:, :-2]\n",
    "labels_70_30 = seventy_thirty_Data.iloc[:, -2:]\n",
    "\n",
    "predicted_probabilities_70_30 = model.predict_proba(spectra_70_30)\n",
    "\n",
    "threshold = 0.30 #Custom threhsold --> if probability >=0.3 then we assume presence of bacteria\n",
    "\n",
    "predicted_labels_custom = (predicted_probabilities_70_30[0][:, 1] >= threshold).astype(int), (predicted_probabilities_70_30[1][:, 1] >= threshold).astype(int)\n",
    "\n",
    "predicted_labels_custom = np.column_stack(predicted_labels_custom)\n",
    "\n",
    "print(accuracy_score(labels_70_30,predicted_labels_custom))\n",
    "print(recall_score(labels_70_30,predicted_labels_custom, average = None))\n",
    "\n",
    "predicted_labels_custom"
   ]
  },
  {
   "cell_type": "code",
   "execution_count": 156,
   "metadata": {},
   "outputs": [
    {
     "name": "stdout",
     "output_type": "stream",
     "text": [
      "0.2777777777777778\n",
      "[0.36111111 0.91666667]\n"
     ]
    },
    {
     "data": {
      "text/plain": [
       "array([[1, 1],\n",
       "       [1, 1],\n",
       "       [0, 1],\n",
       "       [1, 1],\n",
       "       [0, 1],\n",
       "       [0, 1],\n",
       "       [1, 1],\n",
       "       [1, 1],\n",
       "       [1, 1],\n",
       "       [0, 1],\n",
       "       [0, 1],\n",
       "       [0, 1],\n",
       "       [0, 1],\n",
       "       [0, 1],\n",
       "       [0, 1],\n",
       "       [0, 1],\n",
       "       [1, 1],\n",
       "       [0, 1],\n",
       "       [0, 1],\n",
       "       [0, 1],\n",
       "       [0, 1],\n",
       "       [1, 1],\n",
       "       [0, 1],\n",
       "       [0, 1],\n",
       "       [0, 1],\n",
       "       [0, 1],\n",
       "       [0, 1],\n",
       "       [1, 0],\n",
       "       [1, 1],\n",
       "       [0, 1],\n",
       "       [1, 0],\n",
       "       [0, 1],\n",
       "       [0, 1],\n",
       "       [1, 0],\n",
       "       [1, 1],\n",
       "       [0, 1]])"
      ]
     },
     "execution_count": 156,
     "metadata": {},
     "output_type": "execute_result"
    }
   ],
   "source": [
    "ninety_ten_Data =pd.read_csv('90_Staph_10_PAO_Intensities.csv') #This sample contained a 90% to 10%  ratio of S.aureus and P. aeruginosa\n",
    "\n",
    "spectra_90_10 = ninety_ten_Data.iloc[:, :-2]\n",
    "labels_90_10 = ninety_ten_Data.iloc[:, -2:]\n",
    "\n",
    "predicted_probabilities_90_10 = model.predict_proba(spectra_90_10)\n",
    "\n",
    "threshold = 0.30 #Custom threhsold --> if probability >=0.3 then we assume presence of bacteria\n",
    "\n",
    "predicted_labels_custom = (predicted_probabilities_90_10[0][:, 1] >= threshold).astype(int), (predicted_probabilities_90_10[1][:, 1] >= threshold).astype(int)\n",
    "\n",
    "predicted_labels_custom = np.column_stack(predicted_labels_custom)\n",
    "\n",
    "print(accuracy_score(labels_90_10,predicted_labels_custom))\n",
    "print(recall_score(labels_90_10,predicted_labels_custom, average = None))\n",
    "\n",
    "predicted_labels_custom"
   ]
  }
 ],
 "metadata": {
  "kernelspec": {
   "display_name": "Python 3",
   "language": "python",
   "name": "python3"
  },
  "language_info": {
   "codemirror_mode": {
    "name": "ipython",
    "version": 3
   },
   "file_extension": ".py",
   "mimetype": "text/x-python",
   "name": "python",
   "nbconvert_exporter": "python",
   "pygments_lexer": "ipython3",
   "version": "3.12.1"
  }
 },
 "nbformat": 4,
 "nbformat_minor": 2
}
